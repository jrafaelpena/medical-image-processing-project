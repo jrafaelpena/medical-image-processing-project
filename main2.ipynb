{
 "cells": [
  {
   "cell_type": "code",
   "execution_count": 1,
   "id": "6a0cfef0-6de8-4a7c-881b-cb1af14c6601",
   "metadata": {},
   "outputs": [],
   "source": [
    "from pathlib import Path\n",
    "from typing import Union\n",
    "import itk\n",
    "import os\n",
    "import time\n",
    "from scripts.slices import *\n",
    "from scripts.image_processing import tumor_segmentation\n",
    "from scripts.visualization import visualize_array"
   ]
  },
  {
   "cell_type": "code",
   "execution_count": 2,
   "id": "d5298c31-6b54-4a0d-9449-4875a2f88c5c",
   "metadata": {},
   "outputs": [
    {
     "data": {
      "text/plain": [
       "PosixPath('/home/estudiante/curso-imageproc/medical-image-processing-project')"
      ]
     },
     "execution_count": 2,
     "metadata": {},
     "output_type": "execute_result"
    }
   ],
   "source": [
    "BASE_PATH = Path(os.getcwd())\n",
    "BASE_PATH"
   ]
  },
  {
   "cell_type": "code",
   "execution_count": 3,
   "id": "45d1302e-c9a6-42f9-b30d-25ab8c99a1b3",
   "metadata": {},
   "outputs": [],
   "source": [
    "names = [\"10\", \"11\", \"12\", \"14\", \"16\", \"17\", \"18\", \"28\"]\n",
    "name = names[0]\n",
    "extension = \"nii.gz\"\n",
    "input_image_pet = BASE_PATH / f\"train_nifti/{name}/p{name}_PET.{extension}\"\n",
    "input_image_ct = BASE_PATH / f\"train_nifti/{name}/p{name}_CT.{extension}\"\n",
    "output_image_pet = BASE_PATH / f\"train_nifti/{name}/p{name}_PET_torax.{extension}\""
   ]
  },
  {
   "cell_type": "code",
   "execution_count": 4,
   "id": "6f99ed9c-52f9-420c-af7a-b9934f991e81",
   "metadata": {},
   "outputs": [],
   "source": [
    "tumor_segmentation(input_image_ct, input_image_pet, output_image_pet)"
   ]
  },
  {
   "cell_type": "code",
   "execution_count": null,
   "id": "22d3f740-d2ce-46e6-98fe-41c395476591",
   "metadata": {},
   "outputs": [],
   "source": []
  }
 ],
 "metadata": {
  "kernelspec": {
   "display_name": "Python 3 (ipykernel)",
   "language": "python",
   "name": "python3"
  },
  "language_info": {
   "codemirror_mode": {
    "name": "ipython",
    "version": 3
   },
   "file_extension": ".py",
   "mimetype": "text/x-python",
   "name": "python",
   "nbconvert_exporter": "python",
   "pygments_lexer": "ipython3",
   "version": "3.10.16"
  }
 },
 "nbformat": 4,
 "nbformat_minor": 5
}

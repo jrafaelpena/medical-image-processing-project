{
 "cells": [
  {
   "cell_type": "code",
   "execution_count": 2,
   "id": "46ef0f5f-2d9e-4d2d-a89f-f82626b74377",
   "metadata": {},
   "outputs": [],
   "source": [
    "from pathlib import Path\n",
    "from typing import Union\n",
    "import itk\n",
    "import os\n",
    "import time\n",
    "from scripts.slices import *\n",
    "from scripts.visualization import visualize_array"
   ]
  },
  {
   "cell_type": "code",
   "execution_count": 3,
   "id": "50b890de-2a85-41a5-afae-4375eb702f3c",
   "metadata": {},
   "outputs": [
    {
     "data": {
      "text/plain": [
       "PosixPath('/home/estudiante/curso-imageproc/medical-image-processing-project')"
      ]
     },
     "execution_count": 3,
     "metadata": {},
     "output_type": "execute_result"
    }
   ],
   "source": [
    "BASE_PATH = Path(os.getcwd())\n",
    "BASE_PATH"
   ]
  },
  {
   "cell_type": "code",
   "execution_count": 123,
   "id": "766b09f5-025f-42e2-8baa-be6391123b9f",
   "metadata": {},
   "outputs": [],
   "source": [
    "names = [\"10\", \"11\", \"12\", \"14\", \"16\", \"17\", \"18\", \"28\"]\n",
    "name = names[4]\n",
    "extension = \"nii.gz\"\n",
    "input_image = BASE_PATH / f\"train_nifti/{name}/p{name}_PET.{extension}\""
   ]
  },
  {
   "cell_type": "code",
   "execution_count": 124,
   "id": "87653f0d-09cb-43e3-bd9f-c0f17313021e",
   "metadata": {},
   "outputs": [
    {
     "data": {
      "text/plain": [
       "(241, 144, 144)"
      ]
     },
     "execution_count": 124,
     "metadata": {},
     "output_type": "execute_result"
    }
   ],
   "source": [
    "dimensions = 3\n",
    "pixel_type_in = itk.F\n",
    "pixel_type_out = itk.UC\n",
    "image_type_in = itk.Image[pixel_type_in, dimensions]\n",
    "image_type_out = itk.Image[pixel_type_out, dimensions]\n",
    "\n",
    "# Step 1: Read the image as float\n",
    "reader = itk.ImageFileReader[image_type_in].New()\n",
    "reader.SetFileName(str(input_image))\n",
    "reader.Update()\n",
    "image = reader.GetOutput()\n",
    "\n",
    "# Step 2: Rescale to unsigned short\n",
    "rescaler = itk.RescaleIntensityImageFilter[image_type_in, image_type_out].New()\n",
    "rescaler.SetInput(image)\n",
    "rescaler.SetOutputMinimum(0)\n",
    "rescaler.SetOutputMaximum(255)\n",
    "rescaler.Update()\n",
    "\n",
    "image = reader.GetOutput()\n",
    "size = itk.size(image)\n",
    "np_image = itk.GetArrayFromImage(image)\n",
    "np_image.shape"
   ]
  },
  {
   "cell_type": "code",
   "execution_count": 125,
   "id": "479f0691-9b6f-4d80-9f71-3fbdcfc603a1",
   "metadata": {},
   "outputs": [
    {
     "data": {
      "text/plain": [
       "np.float32(51944.445)"
      ]
     },
     "execution_count": 125,
     "metadata": {},
     "output_type": "execute_result"
    }
   ],
   "source": [
    "np_image.max()"
   ]
  },
  {
   "cell_type": "code",
   "execution_count": 126,
   "id": "50c9e99a-4674-4b2d-8288-4249f156ec69",
   "metadata": {},
   "outputs": [
    {
     "data": {
      "text/plain": [
       "220"
      ]
     },
     "execution_count": 126,
     "metadata": {},
     "output_type": "execute_result"
    }
   ],
   "source": [
    "from scripts.slices import extract_initial_slice, extract_final_slice\n",
    "\n",
    "initial_slice = extract_initial_slice(np_image, intensity_threshold=50, min_sequence_lenght=10)\n",
    "initial_slice"
   ]
  },
  {
   "cell_type": "code",
   "execution_count": null,
   "id": "aca2a937-b41b-460b-98c0-098453efb065",
   "metadata": {},
   "outputs": [],
   "source": [
    "leg_slice, other = extract_final_slice(np_image, initial_slice, intensity_threshold=3, leg_intensity_threshold=50)\n",
    "print(leg_slice, other)"
   ]
  },
  {
   "cell_type": "code",
   "execution_count": null,
   "id": "d7cb0ec2-8c5f-49f3-b75c-39b8230632f4",
   "metadata": {},
   "outputs": [],
   "source": [
    "visualize_array(np_image[initial_slice,:,:])"
   ]
  },
  {
   "cell_type": "code",
   "execution_count": null,
   "id": "97917107-2369-4d65-b484-0a69f8fb38ea",
   "metadata": {},
   "outputs": [],
   "source": [
    "np_image_2 = np_image[0:initial_slice+1,:,:]"
   ]
  },
  {
   "cell_type": "code",
   "execution_count": null,
   "id": "7676feb3-a29e-4f74-abbb-63d3f92bc975",
   "metadata": {},
   "outputs": [],
   "source": [
    "np_image_2.shape"
   ]
  },
  {
   "cell_type": "code",
   "execution_count": null,
   "id": "2b3a58fb-2b2a-4bfa-b3fe-3b39675cf16f",
   "metadata": {},
   "outputs": [],
   "source": [
    "from scripts.slices import kmeans_labels\n",
    "num_pixels_arr = []\n",
    "for z in range(np_image_2.shape[0]):\n",
    "    slice_array = np_image_2[z,:,:]\n",
    "    num_pixels_arr.append((slice_array > 100).sum())\n",
    "    \n",
    "num_pixels_arr = np.array(num_pixels_arr).reshape(-1,1)\n",
    "labels = kmeans_labels(num_pixels_arr, n_clusters=3)\n",
    "for i,val in enumerate(labels):\n",
    "    print(i, \" : \", val)\n",
    "    "
   ]
  },
  {
   "cell_type": "code",
   "execution_count": null,
   "id": "8f8f3dfe-1a0f-4f00-a855-da42804f7df9",
   "metadata": {},
   "outputs": [],
   "source": [
    "visualize_array(np_image[141,:,:])"
   ]
  },
  {
   "cell_type": "code",
   "execution_count": 10,
   "id": "1383274c-e84c-4d1c-b9b3-0ee2f255f98f",
   "metadata": {},
   "outputs": [],
   "source": [
    "from scripts.image_processing import *\n",
    "\n",
    "names = [\"10\", \"11\", \"12\", \"14\", \"16\", \"17\", \"18\", \"28\"]\n",
    "name = names[5]\n",
    "extension = \"nii.gz\"\n",
    "input_image_pet = BASE_PATH / f\"train_nifti/{name}/p{name}_PET.{extension}\"\n",
    "input_image_ct = BASE_PATH / f\"train_nifti/{name}/p{name}_CT.{extension}\""
   ]
  },
  {
   "cell_type": "code",
   "execution_count": 11,
   "id": "3931ce46-db0b-4927-ac5f-1bfac10a7c00",
   "metadata": {},
   "outputs": [
    {
     "data": {
      "text/plain": [
       "(182, 356, 133)"
      ]
     },
     "execution_count": 11,
     "metadata": {},
     "output_type": "execute_result"
    }
   ],
   "source": [
    "get_slices_range(input_image_ct, input_image_pet)"
   ]
  },
  {
   "cell_type": "code",
   "execution_count": 1,
   "id": "14f63a48-4bdf-4a0e-af3e-141056c62436",
   "metadata": {},
   "outputs": [],
   "source": [
    "from scripts.image_processing import *"
   ]
  },
  {
   "cell_type": "code",
   "execution_count": null,
   "id": "fde477f5-a9e1-40b3-8705-021ac6ffcd6f",
   "metadata": {},
   "outputs": [],
   "source": []
  }
 ],
 "metadata": {
  "kernelspec": {
   "display_name": "Python 3 (ipykernel)",
   "language": "python",
   "name": "python3"
  },
  "language_info": {
   "codemirror_mode": {
    "name": "ipython",
    "version": 3
   },
   "file_extension": ".py",
   "mimetype": "text/x-python",
   "name": "python",
   "nbconvert_exporter": "python",
   "pygments_lexer": "ipython3",
   "version": "3.10.16"
  }
 },
 "nbformat": 4,
 "nbformat_minor": 5
}

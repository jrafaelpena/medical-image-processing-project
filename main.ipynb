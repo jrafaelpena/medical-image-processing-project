{
 "cells": [
  {
   "cell_type": "code",
   "execution_count": 1,
   "id": "46ef0f5f-2d9e-4d2d-a89f-f82626b74377",
   "metadata": {},
   "outputs": [],
   "source": [
    "from pathlib import Path\n",
    "from typing import Union\n",
    "import itk\n",
    "import os\n",
    "import time"
   ]
  },
  {
   "cell_type": "code",
   "execution_count": 2,
   "id": "50b890de-2a85-41a5-afae-4375eb702f3c",
   "metadata": {},
   "outputs": [
    {
     "data": {
      "text/plain": [
       "PosixPath('/home/estudiante/curso-imageproc/medical-image-processing-project')"
      ]
     },
     "execution_count": 2,
     "metadata": {},
     "output_type": "execute_result"
    }
   ],
   "source": [
    "BASE_PATH = Path(os.getcwd())\n",
    "BASE_PATH"
   ]
  },
  {
   "cell_type": "code",
   "execution_count": 3,
   "id": "c7f316b3-d47c-40d1-b777-07b89219e910",
   "metadata": {},
   "outputs": [],
   "source": [
    "import numpy as np\n",
    "import matplotlib.pyplot as plt\n",
    "\n",
    "def visualize_array(arr, cmap='viridis', title='Array Visualization'):\n",
    "    \"\"\"\n",
    "    Visualizes a 2D numpy array using imshow.\n",
    "\n",
    "    Parameters:\n",
    "    - arr: 2D numpy array\n",
    "    - cmap: Colormap for visualization (default: 'viridis')\n",
    "    - title: Title of the plot\n",
    "    \"\"\"\n",
    "    if arr.ndim != 2:\n",
    "        raise ValueError(\"Input array must be 2D\")\n",
    "\n",
    "    plt.figure(figsize=(6, 6))\n",
    "    plt.imshow(arr, cmap=cmap)\n",
    "    plt.colorbar(label='Value')\n",
    "    plt.title(title)\n",
    "    plt.xlabel('X-axis')\n",
    "    plt.ylabel('Y-axis')\n",
    "    plt.tight_layout()\n",
    "    plt.show()"
   ]
  },
  {
   "cell_type": "code",
   "execution_count": 35,
   "id": "766b09f5-025f-42e2-8baa-be6391123b9f",
   "metadata": {},
   "outputs": [],
   "source": [
    "names = [\"10\", \"11\", \"12\", \"14\", \"16\", \"17\", \"18\", \"28\"]\n",
    "name = names[0]\n",
    "extension = \"nii.gz\"\n",
    "input_image = BASE_PATH / f\"train_nifti/{name}/p{name}_PET.{extension}\""
   ]
  },
  {
   "cell_type": "code",
   "execution_count": 36,
   "id": "87653f0d-09cb-43e3-bd9f-c0f17313021e",
   "metadata": {},
   "outputs": [
    {
     "data": {
      "text/plain": [
       "(241, 144, 144)"
      ]
     },
     "execution_count": 36,
     "metadata": {},
     "output_type": "execute_result"
    }
   ],
   "source": [
    "dimensions = 3\n",
    "pixel_type_in = itk.F\n",
    "pixel_type_out = itk.UC\n",
    "image_type_in = itk.Image[pixel_type_in, dimensions]\n",
    "image_type_out = itk.Image[pixel_type_out, dimensions]\n",
    "\n",
    "# Step 1: Read the image as float\n",
    "reader = itk.ImageFileReader[image_type_in].New()\n",
    "reader.SetFileName(str(input_image))\n",
    "reader.Update()\n",
    "\n",
    "image = reader.GetOutput()\n",
    "size = itk.size(image)\n",
    "np_image = itk.GetArrayFromImage(image)\n",
    "np_image.shape"
   ]
  },
  {
   "cell_type": "code",
   "execution_count": 6,
   "id": "6ee3a46d-f157-477c-a583-3fdc1ceab83b",
   "metadata": {},
   "outputs": [],
   "source": [
    "ct_spacing = image.GetSpacing()\n",
    "ct_origin = image.GetOrigin()\n",
    "ct_direction = image.GetDirection()"
   ]
  },
  {
   "cell_type": "code",
   "execution_count": 7,
   "id": "8b9037ee-8f37-43f8-a15f-13a4e89a46dc",
   "metadata": {},
   "outputs": [
    {
     "data": {
      "text/plain": [
       "itkVectorD3 ([1.17188, 1.17188, 1.5])"
      ]
     },
     "execution_count": 7,
     "metadata": {},
     "output_type": "execute_result"
    }
   ],
   "source": [
    "ct_spacing"
   ]
  },
  {
   "cell_type": "code",
   "execution_count": 8,
   "id": "a61f5005-222a-4f57-86c3-aa2a3d34cb4f",
   "metadata": {},
   "outputs": [
    {
     "data": {
      "text/plain": [
       "itkPointD3 ([-300, -230, -1125.18])"
      ]
     },
     "execution_count": 8,
     "metadata": {},
     "output_type": "execute_result"
    }
   ],
   "source": [
    "ct_origin"
   ]
  },
  {
   "cell_type": "code",
   "execution_count": 18,
   "id": "b4e06f2c-122d-4481-8294-3126b66767a8",
   "metadata": {},
   "outputs": [
    {
     "data": {
      "text/plain": [
       "itkMatrixD33 ([[1.0, 0.0, 0.0], [0.0, 1.0, 0.0], [0.0, 0.0, 1.0]])"
      ]
     },
     "execution_count": 18,
     "metadata": {},
     "output_type": "execute_result"
    }
   ],
   "source": [
    "ct_direction"
   ]
  },
  {
   "cell_type": "code",
   "execution_count": 30,
   "id": "5c9760f8-0a10-4564-b072-93d20de11070",
   "metadata": {},
   "outputs": [],
   "source": [
    "ct_direction_array = ct_direction.__array__()"
   ]
  },
  {
   "cell_type": "code",
   "execution_count": 32,
   "id": "ef74afd7-5f5a-4a23-84a8-7d3b7cedfc1e",
   "metadata": {},
   "outputs": [
    {
     "data": {
      "text/plain": [
       "np.float64(1.0)"
      ]
     },
     "execution_count": 32,
     "metadata": {},
     "output_type": "execute_result"
    }
   ],
   "source": [
    "ct_direction_array[2][2]"
   ]
  },
  {
   "cell_type": "code",
   "execution_count": 10,
   "id": "50c9e99a-4674-4b2d-8288-4249f156ec69",
   "metadata": {},
   "outputs": [
    {
     "data": {
      "text/plain": [
       "364"
      ]
     },
     "execution_count": 10,
     "metadata": {},
     "output_type": "execute_result"
    }
   ],
   "source": [
    "from scripts.slices import extract_initial_slice, extract_final_slice\n",
    "\n",
    "initial_slice = extract_initial_slice(np_image, intensity_threshold=50, min_sequence_lenght=10)\n",
    "initial_slice"
   ]
  },
  {
   "cell_type": "code",
   "execution_count": 34,
   "id": "2c23678f-b220-4bf5-baea-feaee9e9c200",
   "metadata": {},
   "outputs": [
    {
     "data": {
      "text/plain": [
       "np.float64(-579.1800537109375)"
      ]
     },
     "execution_count": 34,
     "metadata": {},
     "output_type": "execute_result"
    }
   ],
   "source": [
    "z_world = ct_origin[2] + initial_slice * ct_spacing[2] * ct_direction_array[2][2]\n",
    "z_world"
   ]
  },
  {
   "cell_type": "code",
   "execution_count": 38,
   "id": "30ad93aa-ece5-49bd-b8e7-44abb8de91a4",
   "metadata": {},
   "outputs": [],
   "source": [
    "pet_spacing = image.GetSpacing()\n",
    "pet_origin = image.GetOrigin()\n",
    "pet_direction = image.GetDirection().__array__()"
   ]
  },
  {
   "cell_type": "code",
   "execution_count": 40,
   "id": "81bfad78-5b98-407c-b257-c20ad37b6c4f",
   "metadata": {},
   "outputs": [
    {
     "data": {
      "text/plain": [
       "136"
      ]
     },
     "execution_count": 40,
     "metadata": {},
     "output_type": "execute_result"
    }
   ],
   "source": [
    "pet_slice_index = int(round((z_world - pet_origin[2]) / (pet_spacing[2] * pet_direction[2][2])))\n",
    "pet_slice_index"
   ]
  },
  {
   "cell_type": "code",
   "execution_count": null,
   "id": "352df376-d21e-4f27-adcc-ea40052cd5c1",
   "metadata": {},
   "outputs": [],
   "source": [
    "from scripts.slices import get_pet_slice_index_from_ct_slice\n",
    "ct_image = BASE_PATH / f\"train_nifti/{name}/p{name}_CT.{extension}\"\n",
    "pet_image = BASE_PATH / f\"train_nifti/{name}/p{name}_PET.{extension}\"\n",
    "get_pet_slice_index_from_ct_slice(ct_image, pet_image, initial_slice)"
   ]
  },
  {
   "cell_type": "code",
   "execution_count": null,
   "id": "aca2a937-b41b-460b-98c0-098453efb065",
   "metadata": {},
   "outputs": [],
   "source": [
    "leg_slice, other = extract_final_slice(np_image, initial_slice, intensity_threshold=3, leg_intensity_threshold=50)\n",
    "print(leg_slice, other)"
   ]
  },
  {
   "cell_type": "code",
   "execution_count": null,
   "id": "d7cb0ec2-8c5f-49f3-b75c-39b8230632f4",
   "metadata": {},
   "outputs": [],
   "source": [
    "visualize_array(np_image[initial_slice,:,:])"
   ]
  },
  {
   "cell_type": "code",
   "execution_count": null,
   "id": "97917107-2369-4d65-b484-0a69f8fb38ea",
   "metadata": {},
   "outputs": [],
   "source": [
    "np_image_2 = np_image[0:initial_slice+1,:,:]"
   ]
  },
  {
   "cell_type": "code",
   "execution_count": null,
   "id": "7676feb3-a29e-4f74-abbb-63d3f92bc975",
   "metadata": {},
   "outputs": [],
   "source": [
    "np_image_2.shape"
   ]
  },
  {
   "cell_type": "code",
   "execution_count": null,
   "id": "2b3a58fb-2b2a-4bfa-b3fe-3b39675cf16f",
   "metadata": {},
   "outputs": [],
   "source": [
    "from scripts.slices import kmeans_labels\n",
    "num_pixels_arr = []\n",
    "for z in range(np_image_2.shape[0]):\n",
    "    slice_array = np_image_2[z,:,:]\n",
    "    num_pixels_arr.append((slice_array > 100).sum())\n",
    "    \n",
    "num_pixels_arr = np.array(num_pixels_arr).reshape(-1,1)\n",
    "labels = kmeans_labels(num_pixels_arr, n_clusters=3)\n",
    "for i,val in enumerate(labels):\n",
    "    print(i, \" : \", val)\n",
    "    "
   ]
  },
  {
   "cell_type": "code",
   "execution_count": null,
   "id": "8f8f3dfe-1a0f-4f00-a855-da42804f7df9",
   "metadata": {},
   "outputs": [],
   "source": [
    "visualize_array(np_image[141,:,:])"
   ]
  },
  {
   "cell_type": "code",
   "execution_count": null,
   "id": "1383274c-e84c-4d1c-b9b3-0ee2f255f98f",
   "metadata": {},
   "outputs": [],
   "source": []
  }
 ],
 "metadata": {
  "kernelspec": {
   "display_name": "Python 3 (ipykernel)",
   "language": "python",
   "name": "python3"
  },
  "language_info": {
   "codemirror_mode": {
    "name": "ipython",
    "version": 3
   },
   "file_extension": ".py",
   "mimetype": "text/x-python",
   "name": "python",
   "nbconvert_exporter": "python",
   "pygments_lexer": "ipython3",
   "version": "3.10.16"
  }
 },
 "nbformat": 4,
 "nbformat_minor": 5
}
